{
 "cells": [
  {
   "cell_type": "code",
   "execution_count": 8,
   "metadata": {},
   "outputs": [
    {
     "name": "stderr",
     "output_type": "stream",
     "text": [
      "0% [##############################] 100% | ETA: 00:00:00\n",
      "Total time elapsed: 00:02:51\n"
     ]
    }
   ],
   "source": [
    "import pyprind\n",
    "import pandas as pd\n",
    "import os\n",
    "import numpy as np\n",
    " \n",
    "def textExtraction():\n",
    "    pbar = pyprind.ProgBar(50000)\n",
    "    labels = {\"pos\":1,\"neg\":0}\n",
    "    data = pd.DataFrame()\n",
    "    for s in (\"test\",\"train\"):\n",
    "        for l in (\"pos\",\"neg\"):\n",
    "            path = \"./%s/%s\"%(s,l)\n",
    "            for file in os.listdir(path):\n",
    "                with open(os.path.join(path,file),\"r\",encoding=\"utf-8\") as f:\n",
    "                    txt = f.read()\n",
    "                data = data.append([[txt,labels[l]]],ignore_index=True)\n",
    "                pbar.update()\n",
    "    data.columns = [\"review\",\"sentiment\"]\n",
    "    np.random.seed(0)\n",
    "    data = data.reindex(np.random.permutation(data.index))\n",
    "    data.to_csv(\"./movie_data.csv\",index=False)\n",
    "textExtraction()"
   ]
  },
  {
   "cell_type": "code",
   "execution_count": 11,
   "metadata": {},
   "outputs": [],
   "source": [
    "movie_data = pd.read_csv('movie_data.csv')"
   ]
  },
  {
   "cell_type": "code",
   "execution_count": 12,
   "metadata": {},
   "outputs": [
    {
     "data": {
      "text/html": [
       "<div>\n",
       "<style scoped>\n",
       "    .dataframe tbody tr th:only-of-type {\n",
       "        vertical-align: middle;\n",
       "    }\n",
       "\n",
       "    .dataframe tbody tr th {\n",
       "        vertical-align: top;\n",
       "    }\n",
       "\n",
       "    .dataframe thead th {\n",
       "        text-align: right;\n",
       "    }\n",
       "</style>\n",
       "<table border=\"1\" class=\"dataframe\">\n",
       "  <thead>\n",
       "    <tr style=\"text-align: right;\">\n",
       "      <th></th>\n",
       "      <th>review</th>\n",
       "      <th>sentiment</th>\n",
       "    </tr>\n",
       "  </thead>\n",
       "  <tbody>\n",
       "    <tr>\n",
       "      <th>0</th>\n",
       "      <td>Based on an actual story, John Boorman shows t...</td>\n",
       "      <td>1</td>\n",
       "    </tr>\n",
       "    <tr>\n",
       "      <th>1</th>\n",
       "      <td>This is a gem. As a Film Four production - the...</td>\n",
       "      <td>1</td>\n",
       "    </tr>\n",
       "    <tr>\n",
       "      <th>2</th>\n",
       "      <td>I really like this show. It has drama, romance...</td>\n",
       "      <td>1</td>\n",
       "    </tr>\n",
       "    <tr>\n",
       "      <th>3</th>\n",
       "      <td>This is the best 3-D experience Disney has at ...</td>\n",
       "      <td>1</td>\n",
       "    </tr>\n",
       "    <tr>\n",
       "      <th>4</th>\n",
       "      <td>Of the Korean movies I've seen, only three had...</td>\n",
       "      <td>1</td>\n",
       "    </tr>\n",
       "  </tbody>\n",
       "</table>\n",
       "</div>"
      ],
      "text/plain": [
       "                                              review  sentiment\n",
       "0  Based on an actual story, John Boorman shows t...          1\n",
       "1  This is a gem. As a Film Four production - the...          1\n",
       "2  I really like this show. It has drama, romance...          1\n",
       "3  This is the best 3-D experience Disney has at ...          1\n",
       "4  Of the Korean movies I've seen, only three had...          1"
      ]
     },
     "execution_count": 12,
     "metadata": {},
     "output_type": "execute_result"
    }
   ],
   "source": [
    "movie_data.head()"
   ]
  },
  {
   "cell_type": "code",
   "execution_count": 13,
   "metadata": {},
   "outputs": [],
   "source": [
    "texts = movie_data['review'].copy()"
   ]
  },
  {
   "cell_type": "code",
   "execution_count": 14,
   "metadata": {},
   "outputs": [
    {
     "data": {
      "text/plain": [
       "0        Based on an actual story, John Boorman shows t...\n",
       "1        This is a gem. As a Film Four production - the...\n",
       "2        I really like this show. It has drama, romance...\n",
       "3        This is the best 3-D experience Disney has at ...\n",
       "4        Of the Korean movies I've seen, only three had...\n",
       "5        this movie is funny funny funny my favorite qu...\n",
       "6        I'm just starting to explore the so far wonder...\n",
       "7        There is no need for me to repeat the synopsis...\n",
       "8        I got this movie with my BBC \"Jane Austen Coll...\n",
       "9        This was a great movie, I would compare it to ...\n",
       "10       I absolutely fell in love with this girls. let...\n",
       "11       It started off weird, the middle was weird, an...\n",
       "12       If you like silly comedies like Airplane you'l...\n",
       "13       The Italian Job requires daylight hours and no...\n",
       "14       I watch a lot of movies - DVD, features, and c...\n",
       "15       In the future, a disparate group of people asl...\n",
       "16       I am really amazed how little fame this film h...\n",
       "17       \"Tale of Two Sisters\" has to be one of the cre...\n",
       "18       Assy McGee is a show that you really have to b...\n",
       "19       This is a great horror movie. Great Plot. And ...\n",
       "20       When I first saw the Premiere Episode of Farsc...\n",
       "21       There were a lot of dumb teenage getting sex m...\n",
       "22       Damien O'Donnell has a good track record and i...\n",
       "23       THE ENGLISH PATIENT not only has it all (doome...\n",
       "24       cool flick. enjoyable to watch. hope to see mo...\n",
       "25       The movie was very good. I'm an avid mystery f...\n",
       "26       I have just finished watching this film for th...\n",
       "27       This movie from what I remember was such a gre...\n",
       "28       The movie takes place during the year 1940 and...\n",
       "29       The Cure is a fantastic film about a boy with ...\n",
       "                               ...                        \n",
       "49970    Everybody who wants to be an editor should wat...\n",
       "49971    Made one year before ILSA, SHE-WOLF OF THE SS,...\n",
       "49972    Boring children's fantasy that gives Joan Plow...\n",
       "49973    Honestly, who in God's name gave this movie an...\n",
       "49974    The goofy Griswalds win the T.V. game show \"pi...\n",
       "49975    Yet another early film from Alfred Hitchcock w...\n",
       "49976    Some have praised _Atlantis:_The_Lost_Empire_ ...\n",
       "49977    There is simply no use in trying to glorify an...\n",
       "49978    I have no idea what on earth, or beyond, could...\n",
       "49979    I had eagerly awaited the first screening of t...\n",
       "49980    As others have said, \"No, Luciano\" is a more a...\n",
       "49981    I found the documentary entitled Fast, Cheap, ...\n",
       "49982    What a shame it is when a potentially captivat...\n",
       "49983    This is a good example of how NOT to make a fi...\n",
       "49984    I was willing to go with the original _Cruel I...\n",
       "49985    The Nutcracker has always been a somewhat prob...\n",
       "49986    I wasn't expecting a lot from a film directed ...\n",
       "49987    I haven't seen \"Henry Fool\", but after watchin...\n",
       "49988    Must every good story be \"improved\" with added...\n",
       "49989    The Christmas Secret was touted as a wonderful...\n",
       "49990    Four Eyed Monsters follows the relationship of...\n",
       "49991    Oh, I heard so much good about this movie. Wen...\n",
       "49992    What a disappointment, especially in light of ...\n",
       "49993    <br /><br />According to reviewers, the year i...\n",
       "49994    Richard Farnsworth is one of my favorite actor...\n",
       "49995    My comments may be a bit of a spoiler, for wha...\n",
       "49996    The \"saucy\" misadventures of four au pairs who...\n",
       "49997    Oh, those Italians! Assuming that movies about...\n",
       "49998    Eight academy nominations? It's beyond belief....\n",
       "49999    Not that I dislike childrens movies, but this ...\n",
       "Name: review, Length: 50000, dtype: object"
      ]
     },
     "execution_count": 14,
     "metadata": {},
     "output_type": "execute_result"
    }
   ],
   "source": [
    "texts"
   ]
  },
  {
   "cell_type": "code",
   "execution_count": 15,
   "metadata": {},
   "outputs": [],
   "source": [
    "import string\n",
    "from sklearn.feature_extraction.text import TfidfVectorizer\n",
    "from sklearn.model_selection import train_test_split\n",
    "from nltk.corpus import stopwords\n",
    "def text_process(text):\n",
    "    \n",
    "    text = text.translate(str.maketrans('', '', string.punctuation))\n",
    "    text = [word for word in text.split() if word.lower() not in stopwords.words('english')]\n",
    "    \n",
    "    return \" \".join(text)"
   ]
  },
  {
   "cell_type": "code",
   "execution_count": 16,
   "metadata": {},
   "outputs": [],
   "source": [
    "texts = texts.apply(text_process)"
   ]
  },
  {
   "cell_type": "code",
   "execution_count": null,
   "metadata": {},
   "outputs": [],
   "source": [
    "vectorizer = TfidfVectorizer(\"english\")\n",
    "features = vectorizer.fit_transform(texts)"
   ]
  },
  {
   "cell_type": "code",
   "execution_count": null,
   "metadata": {},
   "outputs": [],
   "source": [
    "movie_data['vectors'] = features.toarray()"
   ]
  },
  {
   "cell_type": "code",
   "execution_count": null,
   "metadata": {},
   "outputs": [],
   "source": [
    "from sklearn.feature_extraction.text import CountVectorizer\n",
    "vec = CountVectorizer(stop_words='english')\n",
    "X = vec.fit_transform(texts)\n",
    "X.toarray()"
   ]
  },
  {
   "cell_type": "code",
   "execution_count": null,
   "metadata": {},
   "outputs": [],
   "source": [
    "X.get_feature_names()"
   ]
  },
  {
   "cell_type": "code",
   "execution_count": null,
   "metadata": {},
   "outputs": [],
   "source": []
  }
 ],
 "metadata": {
  "kernelspec": {
   "display_name": "Python 3",
   "language": "python",
   "name": "python3"
  },
  "language_info": {
   "codemirror_mode": {
    "name": "ipython",
    "version": 3
   },
   "file_extension": ".py",
   "mimetype": "text/x-python",
   "name": "python",
   "nbconvert_exporter": "python",
   "pygments_lexer": "ipython3",
   "version": "3.5.4"
  }
 },
 "nbformat": 4,
 "nbformat_minor": 2
}
